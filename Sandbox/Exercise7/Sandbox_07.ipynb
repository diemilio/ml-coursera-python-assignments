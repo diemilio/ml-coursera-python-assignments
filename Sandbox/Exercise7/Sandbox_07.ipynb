{
 "cells": [
  {
   "cell_type": "code",
   "execution_count": 2,
   "metadata": {},
   "outputs": [],
   "source": [
    "import numpy as np"
   ]
  },
  {
   "cell_type": "code",
   "execution_count": 34,
   "metadata": {},
   "outputs": [],
   "source": [
    "X2 = np.array([[11,4,10],[44,5,6],[7,83,33],[22,44,33],[27,86,55],[1,3,4],[53,34,32]])\n",
    "X3 = np.array([[11,2,4],[3,5,7],[7,83,33],[23,34,34],[0,86,0],[1,5,4],[5,34,3]])\n",
    "T2 = np.array([[31,12,15],[22,2,4],[41,15,18],[42,3,5]])\n",
    "T1 = np.array([[1],[2],[3]])\n",
    "mu = np.array([1,1,1])"
   ]
  },
  {
   "cell_type": "code",
   "execution_count": 40,
   "metadata": {},
   "outputs": [
    {
     "data": {
      "text/plain": [
       "array([[  237,   564,   739,   748,  1191,    63,  1039],\n",
       "       [  564,  1997,   921,  1386,  1948,    83,  2694],\n",
       "       [  739,   921,  8027,  4895,  9142,   388,  4249],\n",
       "       [  748,  1386,  4895,  3509,  6193,   286,  3718],\n",
       "       [ 1191,  1948,  9142,  6193, 11150,   505,  6115],\n",
       "       [   63,    83,   388,   286,   505,    26,   283],\n",
       "       [ 1039,  2694,  4249,  3718,  6115,   283,  4989]])"
      ]
     },
     "execution_count": 40,
     "metadata": {},
     "output_type": "execute_result"
    }
   ],
   "source": [
    "np.dot(X2,X2)"
   ]
  },
  {
   "cell_type": "code",
   "execution_count": 38,
   "metadata": {},
   "outputs": [
    {
     "data": {
      "text/plain": [
       "array([[ 49],\n",
       "       [ 72],\n",
       "       [272],\n",
       "       [209],\n",
       "       [364],\n",
       "       [ 19],\n",
       "       [217]])"
      ]
     },
     "execution_count": 38,
     "metadata": {},
     "output_type": "execute_result"
    }
   ],
   "source": [
    "np.dot(X2,T1)"
   ]
  },
  {
   "cell_type": "code",
   "execution_count": null,
   "metadata": {},
   "outputs": [],
   "source": []
  },
  {
   "cell_type": "code",
   "execution_count": null,
   "metadata": {},
   "outputs": [],
   "source": []
  },
  {
   "cell_type": "code",
   "execution_count": 13,
   "metadata": {},
   "outputs": [
    {
     "data": {
      "text/plain": [
       "array([[ True, False, False],\n",
       "       [False, False, False],\n",
       "       [False,  True,  True],\n",
       "       [ True,  True,  True],\n",
       "       [False,  True, False],\n",
       "       [False, False, False],\n",
       "       [False,  True, False]])"
      ]
     },
     "execution_count": 13,
     "metadata": {},
     "output_type": "execute_result"
    }
   ],
   "source": [
    "(np.where(X2>10,1,0) == 1) & (np.where(X3>10,1,0) == 1)"
   ]
  },
  {
   "cell_type": "code",
   "execution_count": 4,
   "metadata": {},
   "outputs": [
    {
     "data": {
      "text/plain": [
       "array([[11,  4, 10],\n",
       "       [44,  5,  6],\n",
       "       [ 7, 83, 33],\n",
       "       [22, 44, 33],\n",
       "       [27, 86, 55],\n",
       "       [ 1,  3,  4],\n",
       "       [53, 34, 32]])"
      ]
     },
     "execution_count": 4,
     "metadata": {},
     "output_type": "execute_result"
    }
   ],
   "source": [
    "X2"
   ]
  },
  {
   "cell_type": "code",
   "execution_count": 7,
   "metadata": {},
   "outputs": [
    {
     "data": {
      "text/plain": [
       "array([[1, 0, 0],\n",
       "       [1, 0, 0],\n",
       "       [0, 1, 1],\n",
       "       [1, 1, 1],\n",
       "       [1, 1, 1],\n",
       "       [0, 0, 0],\n",
       "       [1, 1, 1]])"
      ]
     },
     "execution_count": 7,
     "metadata": {},
     "output_type": "execute_result"
    }
   ],
   "source": [
    "np.where(X2>10,1,0)\n"
   ]
  },
  {
   "cell_type": "code",
   "execution_count": 5,
   "metadata": {},
   "outputs": [
    {
     "data": {
      "text/plain": [
       "array([23.57142857, 37.        , 24.71428571])"
      ]
     },
     "execution_count": 5,
     "metadata": {},
     "output_type": "execute_result"
    }
   ],
   "source": [
    "np.mean(X2,axis=0)"
   ]
  },
  {
   "cell_type": "code",
   "execution_count": 6,
   "metadata": {},
   "outputs": [
    {
     "data": {
      "text/plain": [
       "array([1, 1, 1])"
      ]
     },
     "execution_count": 6,
     "metadata": {},
     "output_type": "execute_result"
    }
   ],
   "source": [
    "mu"
   ]
  },
  {
   "cell_type": "code",
   "execution_count": 7,
   "metadata": {},
   "outputs": [
    {
     "data": {
      "text/plain": [
       "array([[10,  3,  9],\n",
       "       [43,  4,  5],\n",
       "       [ 6, 82, 32],\n",
       "       [21, 43, 32],\n",
       "       [26, 85, 54],\n",
       "       [ 0,  2,  3],\n",
       "       [52, 33, 31]])"
      ]
     },
     "execution_count": 7,
     "metadata": {},
     "output_type": "execute_result"
    }
   ],
   "source": [
    "X2-mu"
   ]
  },
  {
   "cell_type": "code",
   "execution_count": 8,
   "metadata": {},
   "outputs": [
    {
     "data": {
      "text/plain": [
       "array([[-10,  -3,  -9],\n",
       "       [-43,  -4,  -5],\n",
       "       [ -6, -82, -32],\n",
       "       [-21, -43, -32],\n",
       "       [-26, -85, -54],\n",
       "       [  0,  -2,  -3],\n",
       "       [-52, -33, -31]])"
      ]
     },
     "execution_count": 8,
     "metadata": {},
     "output_type": "execute_result"
    }
   ],
   "source": [
    "mu-X2"
   ]
  },
  {
   "cell_type": "code",
   "execution_count": 9,
   "metadata": {},
   "outputs": [
    {
     "data": {
      "text/plain": [
       "array([[11,  4, 10],\n",
       "       [44,  5,  6],\n",
       "       [ 7, 83, 33],\n",
       "       [22, 44, 33],\n",
       "       [27, 86, 55],\n",
       "       [ 1,  3,  4],\n",
       "       [53, 34, 32]])"
      ]
     },
     "execution_count": 9,
     "metadata": {},
     "output_type": "execute_result"
    }
   ],
   "source": [
    "X2'"
   ]
  },
  {
   "cell_type": "code",
   "execution_count": 13,
   "metadata": {},
   "outputs": [],
   "source": [
    "n = np.array([0,0,2,1,1,2,0])"
   ]
  },
  {
   "cell_type": "code",
   "execution_count": 28,
   "metadata": {},
   "outputs": [
    {
     "name": "stdout",
     "output_type": "stream",
     "text": [
      "[[11  4 10]\n",
      " [44  5  6]\n",
      " [53 34 32]]\n",
      "[36.         14.33333333 16.        ]\n",
      "[[22 44 33]\n",
      " [27 86 55]]\n",
      "[24.5 65.  44. ]\n",
      "[[ 7 83 33]\n",
      " [ 1  3  4]]\n",
      "[ 4.  43.  18.5]\n"
     ]
    }
   ],
   "source": [
    "for k in range(3):\n",
    "    ck = n == k\n",
    "    print(X2[ck,:])\n",
    "    print(np.mean(X2[ck,:],axis=0))"
   ]
  },
  {
   "cell_type": "code",
   "execution_count": 34,
   "metadata": {},
   "outputs": [
    {
     "data": {
      "text/plain": [
       "array([3, 6, 2, 4, 0, 1, 5])"
      ]
     },
     "execution_count": 34,
     "metadata": {},
     "output_type": "execute_result"
    }
   ],
   "source": [
    "np.random.permutation(X2.shape[0])"
   ]
  },
  {
   "cell_type": "code",
   "execution_count": 23,
   "metadata": {},
   "outputs": [
    {
     "data": {
      "text/plain": [
       "36.0"
      ]
     },
     "execution_count": 23,
     "metadata": {},
     "output_type": "execute_result"
    }
   ],
   "source": [
    "(11.0+44.0+53.0)/3.0"
   ]
  },
  {
   "cell_type": "code",
   "execution_count": 26,
   "metadata": {},
   "outputs": [
    {
     "data": {
      "text/plain": [
       "25"
      ]
     },
     "execution_count": 26,
     "metadata": {},
     "output_type": "execute_result"
    }
   ],
   "source": [
    "11+4+10"
   ]
  },
  {
   "cell_type": "code",
   "execution_count": 17,
   "metadata": {},
   "outputs": [
    {
     "name": "stdout",
     "output_type": "stream",
     "text": [
      "[0 0 1 1 1 0 0 0 1 0]\n",
      "[1 1 1 1 1 1 1 0 1 1]\n"
     ]
    }
   ],
   "source": [
    "a = np.random.randint(2,size=10)\n",
    "b = np.random.randint(2,size=10)\n",
    "print(a)\n",
    "print(b)"
   ]
  },
  {
   "cell_type": "code",
   "execution_count": 21,
   "metadata": {},
   "outputs": [
    {
     "name": "stdout",
     "output_type": "stream",
     "text": [
      "[0 0 1 1 1 0 0 0 1 0]\n"
     ]
    }
   ],
   "source": [
    "X = (a==1)&(b==1).astype(int)\n",
    "print(X)"
   ]
  },
  {
   "cell_type": "code",
   "execution_count": 22,
   "metadata": {},
   "outputs": [
    {
     "data": {
      "text/plain": [
       "4"
      ]
     },
     "execution_count": 22,
     "metadata": {},
     "output_type": "execute_result"
    }
   ],
   "source": [
    "np.sum(X)"
   ]
  },
  {
   "cell_type": "code",
   "execution_count": 30,
   "metadata": {},
   "outputs": [
    {
     "data": {
      "text/plain": [
       "array([170, 390, 610, 830])"
      ]
     },
     "execution_count": 30,
     "metadata": {},
     "output_type": "execute_result"
    }
   ],
   "source": [
    "a = np.dot(np.array([1,2,3,4]),np.array([[1,2],[3,4],[5,6],[7,8]]))\n",
    "np.dot(a,np.array([[1,2],[3,4],[5,6],[7,8]]).T)"
   ]
  },
  {
   "cell_type": "code",
   "execution_count": 27,
   "metadata": {},
   "outputs": [
    {
     "data": {
      "text/plain": [
       "array([1, 2])"
      ]
     },
     "execution_count": 27,
     "metadata": {},
     "output_type": "execute_result"
    }
   ],
   "source": [
    "k = np.array([[1,2],[3,4],[5,6],[7,8]])\n",
    "k[0,:]"
   ]
  },
  {
   "cell_type": "code",
   "execution_count": null,
   "metadata": {},
   "outputs": [],
   "source": []
  }
 ],
 "metadata": {
  "kernelspec": {
   "display_name": "Python 3",
   "language": "python",
   "name": "python3"
  },
  "language_info": {
   "codemirror_mode": {
    "name": "ipython",
    "version": 3
   },
   "file_extension": ".py",
   "mimetype": "text/x-python",
   "name": "python",
   "nbconvert_exporter": "python",
   "pygments_lexer": "ipython3",
   "version": "3.7.6"
  }
 },
 "nbformat": 4,
 "nbformat_minor": 4
}
