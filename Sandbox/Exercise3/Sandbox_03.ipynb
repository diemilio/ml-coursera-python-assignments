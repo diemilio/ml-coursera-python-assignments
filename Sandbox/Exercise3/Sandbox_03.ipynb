{
 "cells": [
  {
   "cell_type": "code",
   "execution_count": 1,
   "metadata": {},
   "outputs": [],
   "source": [
    "import numpy as np\n",
    "import sympy as sp\n",
    "from qiskit_textbook.tools import array_to_latex"
   ]
  },
  {
   "cell_type": "code",
   "execution_count": 2,
   "metadata": {},
   "outputs": [],
   "source": [
    "x00, x01, x02, x10, x11, x12, x20, x21, x22, x30, x31, x32 = sp.symbols('x00, x01, x02, x10, x11, x12, x20, x21, x22, x30, x31, x32')\n",
    "t00, t01, t02, t10, t11, t12 = sp.symbols('t00, t01, t02, t10, t11, t12')"
   ]
  },
  {
   "cell_type": "code",
   "execution_count": 3,
   "metadata": {},
   "outputs": [],
   "source": [
    "X = sp.Matrix([[x00, x01, x02],[x10, x11, x12],[x20, x21, x22],[x30, x31, x32]])\n",
    "T = sp.Matrix([[t00, t01, t02],[t10, t11, t12]])"
   ]
  },
  {
   "cell_type": "code",
   "execution_count": 4,
   "metadata": {},
   "outputs": [
    {
     "data": {
      "text/latex": [
       "$\\displaystyle \\left[\\begin{matrix}x_{00} & x_{01} & x_{02}\\\\x_{10} & x_{11} & x_{12}\\\\x_{20} & x_{21} & x_{22}\\\\x_{30} & x_{31} & x_{32}\\end{matrix}\\right]$"
      ],
      "text/plain": [
       "Matrix([\n",
       "[x00, x01, x02],\n",
       "[x10, x11, x12],\n",
       "[x20, x21, x22],\n",
       "[x30, x31, x32]])"
      ]
     },
     "execution_count": 4,
     "metadata": {},
     "output_type": "execute_result"
    }
   ],
   "source": [
    "X"
   ]
  },
  {
   "cell_type": "code",
   "execution_count": 5,
   "metadata": {},
   "outputs": [
    {
     "data": {
      "text/latex": [
       "$\\displaystyle \\left[\\begin{matrix}x_{00} & x_{10} & x_{20} & x_{30}\\\\x_{01} & x_{11} & x_{21} & x_{31}\\\\x_{02} & x_{12} & x_{22} & x_{32}\\end{matrix}\\right]$"
      ],
      "text/plain": [
       "Matrix([\n",
       "[x00, x10, x20, x30],\n",
       "[x01, x11, x21, x31],\n",
       "[x02, x12, x22, x32]])"
      ]
     },
     "execution_count": 5,
     "metadata": {},
     "output_type": "execute_result"
    }
   ],
   "source": [
    "X.T"
   ]
  },
  {
   "cell_type": "code",
   "execution_count": 6,
   "metadata": {},
   "outputs": [
    {
     "data": {
      "text/latex": [
       "$\\displaystyle \\left[\\begin{matrix}t_{00} & t_{01} & t_{02}\\\\t_{10} & t_{11} & t_{12}\\end{matrix}\\right]$"
      ],
      "text/plain": [
       "Matrix([\n",
       "[t00, t01, t02],\n",
       "[t10, t11, t12]])"
      ]
     },
     "execution_count": 6,
     "metadata": {},
     "output_type": "execute_result"
    }
   ],
   "source": [
    "T"
   ]
  },
  {
   "cell_type": "code",
   "execution_count": 7,
   "metadata": {},
   "outputs": [
    {
     "data": {
      "text/latex": [
       "$\\displaystyle \\left[\\begin{matrix}t_{00} x_{00} + t_{01} x_{01} + t_{02} x_{02} & t_{10} x_{00} + t_{11} x_{01} + t_{12} x_{02}\\\\t_{00} x_{10} + t_{01} x_{11} + t_{02} x_{12} & t_{10} x_{10} + t_{11} x_{11} + t_{12} x_{12}\\\\t_{00} x_{20} + t_{01} x_{21} + t_{02} x_{22} & t_{10} x_{20} + t_{11} x_{21} + t_{12} x_{22}\\\\t_{00} x_{30} + t_{01} x_{31} + t_{02} x_{32} & t_{10} x_{30} + t_{11} x_{31} + t_{12} x_{32}\\end{matrix}\\right]$"
      ],
      "text/plain": [
       "Matrix([\n",
       "[t00*x00 + t01*x01 + t02*x02, t10*x00 + t11*x01 + t12*x02],\n",
       "[t00*x10 + t01*x11 + t02*x12, t10*x10 + t11*x11 + t12*x12],\n",
       "[t00*x20 + t01*x21 + t02*x22, t10*x20 + t11*x21 + t12*x22],\n",
       "[t00*x30 + t01*x31 + t02*x32, t10*x30 + t11*x31 + t12*x32]])"
      ]
     },
     "execution_count": 7,
     "metadata": {},
     "output_type": "execute_result"
    }
   ],
   "source": [
    "X*T.T"
   ]
  },
  {
   "cell_type": "code",
   "execution_count": 10,
   "metadata": {},
   "outputs": [
    {
     "data": {
      "text/latex": [
       "$\\displaystyle \\left[\\begin{matrix}x_{00}^{2} + x_{10}^{2} + x_{20}^{2} + x_{30}^{2} & x_{00} x_{01} + x_{10} x_{11} + x_{20} x_{21} + x_{30} x_{31} & x_{00} x_{02} + x_{10} x_{12} + x_{20} x_{22} + x_{30} x_{32}\\\\x_{00} x_{01} + x_{10} x_{11} + x_{20} x_{21} + x_{30} x_{31} & x_{01}^{2} + x_{11}^{2} + x_{21}^{2} + x_{31}^{2} & x_{01} x_{02} + x_{11} x_{12} + x_{21} x_{22} + x_{31} x_{32}\\\\x_{00} x_{02} + x_{10} x_{12} + x_{20} x_{22} + x_{30} x_{32} & x_{01} x_{02} + x_{11} x_{12} + x_{21} x_{22} + x_{31} x_{32} & x_{02}^{2} + x_{12}^{2} + x_{22}^{2} + x_{32}^{2}\\end{matrix}\\right]$"
      ],
      "text/plain": [
       "Matrix([\n",
       "[    x00**2 + x10**2 + x20**2 + x30**2, x00*x01 + x10*x11 + x20*x21 + x30*x31, x00*x02 + x10*x12 + x20*x22 + x30*x32],\n",
       "[x00*x01 + x10*x11 + x20*x21 + x30*x31,     x01**2 + x11**2 + x21**2 + x31**2, x01*x02 + x11*x12 + x21*x22 + x31*x32],\n",
       "[x00*x02 + x10*x12 + x20*x22 + x30*x32, x01*x02 + x11*x12 + x21*x22 + x31*x32,     x02**2 + x12**2 + x22**2 + x32**2]])"
      ]
     },
     "execution_count": 10,
     "metadata": {},
     "output_type": "execute_result"
    }
   ],
   "source": [
    "X.T*X"
   ]
  },
  {
   "cell_type": "code",
   "execution_count": 11,
   "metadata": {},
   "outputs": [
    {
     "data": {
      "text/latex": [
       "$\\displaystyle \\left[\\begin{matrix}x_{00}^{2} + x_{01}^{2} + x_{02}^{2} & x_{00} x_{10} + x_{01} x_{11} + x_{02} x_{12} & x_{00} x_{20} + x_{01} x_{21} + x_{02} x_{22} & x_{00} x_{30} + x_{01} x_{31} + x_{02} x_{32}\\\\x_{00} x_{10} + x_{01} x_{11} + x_{02} x_{12} & x_{10}^{2} + x_{11}^{2} + x_{12}^{2} & x_{10} x_{20} + x_{11} x_{21} + x_{12} x_{22} & x_{10} x_{30} + x_{11} x_{31} + x_{12} x_{32}\\\\x_{00} x_{20} + x_{01} x_{21} + x_{02} x_{22} & x_{10} x_{20} + x_{11} x_{21} + x_{12} x_{22} & x_{20}^{2} + x_{21}^{2} + x_{22}^{2} & x_{20} x_{30} + x_{21} x_{31} + x_{22} x_{32}\\\\x_{00} x_{30} + x_{01} x_{31} + x_{02} x_{32} & x_{10} x_{30} + x_{11} x_{31} + x_{12} x_{32} & x_{20} x_{30} + x_{21} x_{31} + x_{22} x_{32} & x_{30}^{2} + x_{31}^{2} + x_{32}^{2}\\end{matrix}\\right]$"
      ],
      "text/plain": [
       "Matrix([\n",
       "[   x00**2 + x01**2 + x02**2, x00*x10 + x01*x11 + x02*x12, x00*x20 + x01*x21 + x02*x22, x00*x30 + x01*x31 + x02*x32],\n",
       "[x00*x10 + x01*x11 + x02*x12,    x10**2 + x11**2 + x12**2, x10*x20 + x11*x21 + x12*x22, x10*x30 + x11*x31 + x12*x32],\n",
       "[x00*x20 + x01*x21 + x02*x22, x10*x20 + x11*x21 + x12*x22,    x20**2 + x21**2 + x22**2, x20*x30 + x21*x31 + x22*x32],\n",
       "[x00*x30 + x01*x31 + x02*x32, x10*x30 + x11*x31 + x12*x32, x20*x30 + x21*x31 + x22*x32,    x30**2 + x31**2 + x32**2]])"
      ]
     },
     "execution_count": 11,
     "metadata": {},
     "output_type": "execute_result"
    }
   ],
   "source": [
    "X*X.T"
   ]
  },
  {
   "cell_type": "code",
   "execution_count": 18,
   "metadata": {},
   "outputs": [],
   "source": [
    "X2 = np.array([[11,4,10],[44,5,6],[7,83,33],[22,44,33],[27,86,55],[1,3,4],[53,34,32]])\n",
    "T2 = np.array([[31,12,15],[22,2,4],[41,15,18],[42,3,5]])"
   ]
  },
  {
   "cell_type": "code",
   "execution_count": 19,
   "metadata": {},
   "outputs": [
    {
     "name": "stdout",
     "output_type": "stream",
     "text": [
      "[[ 539  290  691  524]\n",
      " [1514 1002 1987 1893]\n",
      " [1708  452 2126  708]\n",
      " [1705  704 2156 1221]\n",
      " [2694  986 3387 1667]\n",
      " [ 127   44  158   71]\n",
      " [2531 1362 3259 2488]]\n"
     ]
    }
   ],
   "source": [
    "XT2 = np.dot(X2,T2.T)\n",
    "print(XT2)"
   ]
  },
  {
   "cell_type": "code",
   "execution_count": 20,
   "metadata": {},
   "outputs": [
    {
     "data": {
      "text/plain": [
       "array([2, 2, 2, 2, 2, 2, 2])"
      ]
     },
     "execution_count": 20,
     "metadata": {},
     "output_type": "execute_result"
    }
   ],
   "source": [
    "np.argmax(XT2, axis = 1)"
   ]
  },
  {
   "cell_type": "code",
   "execution_count": 22,
   "metadata": {},
   "outputs": [
    {
     "data": {
      "text/plain": [
       "array([ 539,  290,  691,  524, 1514, 1002, 1987, 1893, 1708,  452, 2126,\n",
       "        708, 1705,  704, 2156, 1221, 2694,  986, 3387, 1667,  127,   44,\n",
       "        158,   71, 2531, 1362, 3259, 2488])"
      ]
     },
     "execution_count": 22,
     "metadata": {},
     "output_type": "execute_result"
    }
   ],
   "source": [
    "XT2.ravel()"
   ]
  },
  {
   "cell_type": "code",
   "execution_count": 28,
   "metadata": {},
   "outputs": [
    {
     "data": {
      "text/plain": [
       "37994"
      ]
     },
     "execution_count": 28,
     "metadata": {},
     "output_type": "execute_result"
    }
   ],
   "source": [
    "a = np.sum(XT2,axis=1)\n",
    "np.sum(a)"
   ]
  },
  {
   "cell_type": "code",
   "execution_count": 24,
   "metadata": {},
   "outputs": [
    {
     "data": {
      "text/plain": [
       "2044"
      ]
     },
     "execution_count": 24,
     "metadata": {},
     "output_type": "execute_result"
    }
   ],
   "source": [
    "539+290+691+524"
   ]
  },
  {
   "cell_type": "code",
   "execution_count": 51,
   "metadata": {},
   "outputs": [
    {
     "data": {
      "text/plain": [
       "array([[1],\n",
       "       [1],\n",
       "       [4],\n",
       "       [3],\n",
       "       [2],\n",
       "       [0],\n",
       "       [0],\n",
       "       [2],\n",
       "       [4],\n",
       "       [3]])"
      ]
     },
     "execution_count": 51,
     "metadata": {},
     "output_type": "execute_result"
    }
   ],
   "source": [
    "x = np.array([[1],[1],[4],[3],[2],[0],[0],[2],[4],[3]])\n",
    "x"
   ]
  },
  {
   "cell_type": "code",
   "execution_count": 33,
   "metadata": {},
   "outputs": [
    {
     "data": {
      "text/plain": [
       "array([1])"
      ]
     },
     "execution_count": 33,
     "metadata": {},
     "output_type": "execute_result"
    }
   ],
   "source": [
    "one = np.array([1])\n",
    "rep = one()"
   ]
  },
  {
   "cell_type": "code",
   "execution_count": 72,
   "metadata": {},
   "outputs": [
    {
     "data": {
      "text/plain": [
       "array([1, 1, 4, 3, 2, 0, 0, 2, 4, 3])"
      ]
     },
     "execution_count": 72,
     "metadata": {},
     "output_type": "execute_result"
    }
   ],
   "source": [
    "x[:,0]"
   ]
  },
  {
   "cell_type": "code",
   "execution_count": 73,
   "metadata": {},
   "outputs": [
    {
     "data": {
      "text/plain": [
       "array([[0., 0., 0., 0., 0.],\n",
       "       [0., 0., 0., 0., 0.],\n",
       "       [0., 0., 0., 0., 0.],\n",
       "       [0., 0., 0., 0., 0.],\n",
       "       [0., 0., 0., 0., 0.],\n",
       "       [0., 0., 0., 0., 0.],\n",
       "       [0., 0., 0., 0., 0.],\n",
       "       [0., 0., 0., 0., 0.],\n",
       "       [0., 0., 0., 0., 0.],\n",
       "       [0., 0., 0., 0., 0.]])"
      ]
     },
     "execution_count": 73,
     "metadata": {},
     "output_type": "execute_result"
    }
   ],
   "source": [
    "m = 10\n",
    "n = 5\n",
    "ym = np.zeros((m,n))\n",
    "ym"
   ]
  },
  {
   "cell_type": "code",
   "execution_count": 74,
   "metadata": {},
   "outputs": [
    {
     "data": {
      "text/plain": [
       "array([[1., 1., 1., 1., 1.],\n",
       "       [1., 1., 1., 1., 1.],\n",
       "       [1., 1., 1., 1., 1.],\n",
       "       [1., 1., 1., 1., 1.],\n",
       "       [1., 1., 1., 1., 1.],\n",
       "       [1., 1., 1., 1., 1.],\n",
       "       [1., 1., 1., 1., 1.],\n",
       "       [1., 1., 1., 1., 1.],\n",
       "       [1., 1., 1., 1., 1.],\n",
       "       [1., 1., 1., 1., 1.]])"
      ]
     },
     "execution_count": 74,
     "metadata": {},
     "output_type": "execute_result"
    }
   ],
   "source": [
    "ym[:,x[,0]] = 1\n",
    "ym"
   ]
  },
  {
   "cell_type": "code",
   "execution_count": 71,
   "metadata": {},
   "outputs": [
    {
     "data": {
      "text/plain": [
       "array([[0., 1., 0., 0., 0.],\n",
       "       [0., 1., 0., 0., 0.],\n",
       "       [0., 0., 0., 0., 1.],\n",
       "       [0., 0., 0., 1., 0.],\n",
       "       [0., 0., 1., 0., 0.],\n",
       "       [1., 0., 0., 0., 0.],\n",
       "       [1., 0., 0., 0., 0.],\n",
       "       [0., 0., 1., 0., 0.],\n",
       "       [0., 0., 0., 0., 1.],\n",
       "       [0., 0., 0., 1., 0.]])"
      ]
     },
     "execution_count": 71,
     "metadata": {},
     "output_type": "execute_result"
    }
   ],
   "source": [
    "for i in range(m):\n",
    "    ym[i,x[i,0]] = 1\n",
    "    \n",
    "ym"
   ]
  },
  {
   "cell_type": "code",
   "execution_count": 7,
   "metadata": {},
   "outputs": [],
   "source": [
    "t10, t20, t30, t11, t21, t31, t12, t22, t32, t13, t23, t33  = sp.symbols('t10, t20, t30, t11, t21, t31, t12, t22, t32, t13, t23, t33')"
   ]
  },
  {
   "cell_type": "code",
   "execution_count": 8,
   "metadata": {},
   "outputs": [
    {
     "data": {
      "text/latex": [
       "$\\displaystyle \\left[\\begin{matrix}t_{10} & t_{20} & t_{30}\\\\t_{11} & t_{21} & t_{31}\\\\t_{12} & t_{22} & t_{32}\\\\t_{13} & t_{23} & t_{33}\\end{matrix}\\right]$"
      ],
      "text/plain": [
       "Matrix([\n",
       "[t10, t20, t30],\n",
       "[t11, t21, t31],\n",
       "[t12, t22, t32],\n",
       "[t13, t23, t33]])"
      ]
     },
     "execution_count": 8,
     "metadata": {},
     "output_type": "execute_result"
    }
   ],
   "source": [
    "THET = sp.Matrix([[t10, t20, t30],[t11, t21, t31],[t12, t22, t32],[t13, t23, t33]])\n",
    "THET"
   ]
  },
  {
   "cell_type": "code",
   "execution_count": 12,
   "metadata": {},
   "outputs": [],
   "source": [
    "d1, d2, d3 = sp.symbols('d1, d2, d3')\n",
    "d11, d12, d13 = sp.symbols('d11, d12, d13')\n",
    "d21, d22, d23 = sp.symbols('d21, d22, d23')\n",
    "d31, d32, d33 = sp.symbols('d31, d32, d33')\n",
    "d41, d42, d43 = sp.symbols('d41, d42, d43')\n",
    "d51, d52, d53 = sp.symbols('d51, d52, d53')"
   ]
  },
  {
   "cell_type": "code",
   "execution_count": 10,
   "metadata": {},
   "outputs": [
    {
     "data": {
      "text/latex": [
       "$\\displaystyle \\left[\\begin{matrix}d_{1}\\\\d_{2}\\\\d_{3}\\end{matrix}\\right]$"
      ],
      "text/plain": [
       "Matrix([\n",
       "[d1],\n",
       "[d2],\n",
       "[d3]])"
      ]
     },
     "execution_count": 10,
     "metadata": {},
     "output_type": "execute_result"
    }
   ],
   "source": [
    "delt = sp.Matrix([[d1],[d2],[d3]])\n",
    "delt"
   ]
  },
  {
   "cell_type": "code",
   "execution_count": 11,
   "metadata": {},
   "outputs": [
    {
     "data": {
      "text/latex": [
       "$\\displaystyle \\left[\\begin{matrix}d_{1} t_{10} + d_{2} t_{20} + d_{3} t_{30}\\\\d_{1} t_{11} + d_{2} t_{21} + d_{3} t_{31}\\\\d_{1} t_{12} + d_{2} t_{22} + d_{3} t_{32}\\\\d_{1} t_{13} + d_{2} t_{23} + d_{3} t_{33}\\end{matrix}\\right]$"
      ],
      "text/plain": [
       "Matrix([\n",
       "[d1*t10 + d2*t20 + d3*t30],\n",
       "[d1*t11 + d2*t21 + d3*t31],\n",
       "[d1*t12 + d2*t22 + d3*t32],\n",
       "[d1*t13 + d2*t23 + d3*t33]])"
      ]
     },
     "execution_count": 11,
     "metadata": {},
     "output_type": "execute_result"
    }
   ],
   "source": [
    "THET*delt"
   ]
  },
  {
   "cell_type": "code",
   "execution_count": 13,
   "metadata": {},
   "outputs": [
    {
     "data": {
      "text/latex": [
       "$\\displaystyle \\left[\\begin{matrix}d_{11} & d_{12} & d_{13}\\\\d_{21} & d_{22} & d_{23}\\\\d_{31} & d_{32} & d_{33}\\\\d_{41} & d_{42} & d_{43}\\\\d_{51} & d_{52} & d_{53}\\end{matrix}\\right]$"
      ],
      "text/plain": [
       "Matrix([\n",
       "[d11, d12, d13],\n",
       "[d21, d22, d23],\n",
       "[d31, d32, d33],\n",
       "[d41, d42, d43],\n",
       "[d51, d52, d53]])"
      ]
     },
     "execution_count": 13,
     "metadata": {},
     "output_type": "execute_result"
    }
   ],
   "source": [
    "delt2 = sp.Matrix([[d11, d12, d13],[d21, d22, d23],[d31, d32, d33],[d41, d42, d43],[d51, d52, d53]])\n",
    "delt2"
   ]
  },
  {
   "cell_type": "code",
   "execution_count": 15,
   "metadata": {},
   "outputs": [
    {
     "data": {
      "text/latex": [
       "$\\displaystyle \\left[\\begin{matrix}d_{11} t_{10} + d_{12} t_{20} + d_{13} t_{30} & d_{11} t_{11} + d_{12} t_{21} + d_{13} t_{31} & d_{11} t_{12} + d_{12} t_{22} + d_{13} t_{32} & d_{11} t_{13} + d_{12} t_{23} + d_{13} t_{33}\\\\d_{21} t_{10} + d_{22} t_{20} + d_{23} t_{30} & d_{21} t_{11} + d_{22} t_{21} + d_{23} t_{31} & d_{21} t_{12} + d_{22} t_{22} + d_{23} t_{32} & d_{21} t_{13} + d_{22} t_{23} + d_{23} t_{33}\\\\d_{31} t_{10} + d_{32} t_{20} + d_{33} t_{30} & d_{31} t_{11} + d_{32} t_{21} + d_{33} t_{31} & d_{31} t_{12} + d_{32} t_{22} + d_{33} t_{32} & d_{31} t_{13} + d_{32} t_{23} + d_{33} t_{33}\\\\d_{41} t_{10} + d_{42} t_{20} + d_{43} t_{30} & d_{41} t_{11} + d_{42} t_{21} + d_{43} t_{31} & d_{41} t_{12} + d_{42} t_{22} + d_{43} t_{32} & d_{41} t_{13} + d_{42} t_{23} + d_{43} t_{33}\\\\d_{51} t_{10} + d_{52} t_{20} + d_{53} t_{30} & d_{51} t_{11} + d_{52} t_{21} + d_{53} t_{31} & d_{51} t_{12} + d_{52} t_{22} + d_{53} t_{32} & d_{51} t_{13} + d_{52} t_{23} + d_{53} t_{33}\\end{matrix}\\right]$"
      ],
      "text/plain": [
       "Matrix([\n",
       "[d11*t10 + d12*t20 + d13*t30, d11*t11 + d12*t21 + d13*t31, d11*t12 + d12*t22 + d13*t32, d11*t13 + d12*t23 + d13*t33],\n",
       "[d21*t10 + d22*t20 + d23*t30, d21*t11 + d22*t21 + d23*t31, d21*t12 + d22*t22 + d23*t32, d21*t13 + d22*t23 + d23*t33],\n",
       "[d31*t10 + d32*t20 + d33*t30, d31*t11 + d32*t21 + d33*t31, d31*t12 + d32*t22 + d33*t32, d31*t13 + d32*t23 + d33*t33],\n",
       "[d41*t10 + d42*t20 + d43*t30, d41*t11 + d42*t21 + d43*t31, d41*t12 + d42*t22 + d43*t32, d41*t13 + d42*t23 + d43*t33],\n",
       "[d51*t10 + d52*t20 + d53*t30, d51*t11 + d52*t21 + d53*t31, d51*t12 + d52*t22 + d53*t32, d51*t13 + d52*t23 + d53*t33]])"
      ]
     },
     "execution_count": 15,
     "metadata": {},
     "output_type": "execute_result"
    }
   ],
   "source": [
    "delt2*THET.T"
   ]
  },
  {
   "cell_type": "code",
   "execution_count": null,
   "metadata": {},
   "outputs": [],
   "source": []
  },
  {
   "cell_type": "code",
   "execution_count": 25,
   "metadata": {},
   "outputs": [],
   "source": [
    "a0, a1, a2, a3 = sp.symbols('a0, a1, a2, a3')\n",
    "a10, a11, a12, a13 = sp.symbols('a10, a11, a12, a13')\n",
    "a20, a21, a22, a23 = sp.symbols('a20, a21, a22, a23')\n",
    "a30, a31, a32, a33 = sp.symbols('a30, a31, a32, a33')\n",
    "a40, a41, a42, a43 = sp.symbols('a40, a41, a42, a43')\n",
    "a50, a51, a52, a53 = sp.symbols('a50, a51, a52, a53')"
   ]
  },
  {
   "cell_type": "code",
   "execution_count": 26,
   "metadata": {},
   "outputs": [
    {
     "data": {
      "text/latex": [
       "$\\displaystyle \\left[\\begin{matrix}a_{10} & a_{11} & a_{12} & a_{13}\\\\a_{20} & a_{21} & a_{22} & a_{23}\\\\a_{30} & a_{31} & a_{32} & a_{33}\\\\a_{40} & a_{41} & a_{42} & a_{43}\\\\a_{50} & a_{51} & a_{52} & a_{53}\\end{matrix}\\right]$"
      ],
      "text/plain": [
       "Matrix([\n",
       "[a10, a11, a12, a13],\n",
       "[a20, a21, a22, a23],\n",
       "[a30, a31, a32, a33],\n",
       "[a40, a41, a42, a43],\n",
       "[a50, a51, a52, a53]])"
      ]
     },
     "execution_count": 26,
     "metadata": {},
     "output_type": "execute_result"
    }
   ],
   "source": [
    "A2 = sp.Matrix([[a10, a11, a12, a13],[a20, a21, a22, a23],[a30, a31, a32, a33],[a40, a41, a42, a43],[a50, a51, a52, a53]])\n",
    "A2"
   ]
  },
  {
   "cell_type": "code",
   "execution_count": 29,
   "metadata": {},
   "outputs": [
    {
     "data": {
      "text/latex": [
       "$\\displaystyle \\left[\\begin{matrix}a_{0}\\\\a_{1}\\\\a_{2}\\\\a_{3}\\end{matrix}\\right]$"
      ],
      "text/plain": [
       "Matrix([\n",
       "[a0],\n",
       "[a1],\n",
       "[a2],\n",
       "[a3]])"
      ]
     },
     "execution_count": 29,
     "metadata": {},
     "output_type": "execute_result"
    }
   ],
   "source": [
    "a = sp.Matrix([[a0],[a1],[a2],[a3]])\n",
    "a"
   ]
  },
  {
   "cell_type": "code",
   "execution_count": 34,
   "metadata": {},
   "outputs": [
    {
     "data": {
      "text/latex": [
       "$\\displaystyle \\left[\\begin{matrix}a_{10} d_{11} + a_{20} d_{21} + a_{30} d_{31} + a_{40} d_{41} + a_{50} d_{51} & a_{11} d_{11} + a_{21} d_{21} + a_{31} d_{31} + a_{41} d_{41} + a_{51} d_{51} & a_{12} d_{11} + a_{22} d_{21} + a_{32} d_{31} + a_{42} d_{41} + a_{52} d_{51} & a_{13} d_{11} + a_{23} d_{21} + a_{33} d_{31} + a_{43} d_{41} + a_{53} d_{51}\\\\a_{10} d_{12} + a_{20} d_{22} + a_{30} d_{32} + a_{40} d_{42} + a_{50} d_{52} & a_{11} d_{12} + a_{21} d_{22} + a_{31} d_{32} + a_{41} d_{42} + a_{51} d_{52} & a_{12} d_{12} + a_{22} d_{22} + a_{32} d_{32} + a_{42} d_{42} + a_{52} d_{52} & a_{13} d_{12} + a_{23} d_{22} + a_{33} d_{32} + a_{43} d_{42} + a_{53} d_{52}\\\\a_{10} d_{13} + a_{20} d_{23} + a_{30} d_{33} + a_{40} d_{43} + a_{50} d_{53} & a_{11} d_{13} + a_{21} d_{23} + a_{31} d_{33} + a_{41} d_{43} + a_{51} d_{53} & a_{12} d_{13} + a_{22} d_{23} + a_{32} d_{33} + a_{42} d_{43} + a_{52} d_{53} & a_{13} d_{13} + a_{23} d_{23} + a_{33} d_{33} + a_{43} d_{43} + a_{53} d_{53}\\end{matrix}\\right]$"
      ],
      "text/plain": [
       "Matrix([\n",
       "[a10*d11 + a20*d21 + a30*d31 + a40*d41 + a50*d51, a11*d11 + a21*d21 + a31*d31 + a41*d41 + a51*d51, a12*d11 + a22*d21 + a32*d31 + a42*d41 + a52*d51, a13*d11 + a23*d21 + a33*d31 + a43*d41 + a53*d51],\n",
       "[a10*d12 + a20*d22 + a30*d32 + a40*d42 + a50*d52, a11*d12 + a21*d22 + a31*d32 + a41*d42 + a51*d52, a12*d12 + a22*d22 + a32*d32 + a42*d42 + a52*d52, a13*d12 + a23*d22 + a33*d32 + a43*d42 + a53*d52],\n",
       "[a10*d13 + a20*d23 + a30*d33 + a40*d43 + a50*d53, a11*d13 + a21*d23 + a31*d33 + a41*d43 + a51*d53, a12*d13 + a22*d23 + a32*d33 + a42*d43 + a52*d53, a13*d13 + a23*d23 + a33*d33 + a43*d43 + a53*d53]])"
      ]
     },
     "execution_count": 34,
     "metadata": {},
     "output_type": "execute_result"
    }
   ],
   "source": [
    "delt2.T*A2"
   ]
  },
  {
   "cell_type": "code",
   "execution_count": 30,
   "metadata": {},
   "outputs": [
    {
     "data": {
      "text/latex": [
       "$\\displaystyle \\left[\\begin{matrix}a_{0} d_{1} & a_{1} d_{1} & a_{2} d_{1} & a_{3} d_{1}\\\\a_{0} d_{2} & a_{1} d_{2} & a_{2} d_{2} & a_{3} d_{2}\\\\a_{0} d_{3} & a_{1} d_{3} & a_{2} d_{3} & a_{3} d_{3}\\end{matrix}\\right]$"
      ],
      "text/plain": [
       "Matrix([\n",
       "[a0*d1, a1*d1, a2*d1, a3*d1],\n",
       "[a0*d2, a1*d2, a2*d2, a3*d2],\n",
       "[a0*d3, a1*d3, a2*d3, a3*d3]])"
      ]
     },
     "execution_count": 30,
     "metadata": {},
     "output_type": "execute_result"
    }
   ],
   "source": [
    "delt*a.T"
   ]
  },
  {
   "cell_type": "code",
   "execution_count": null,
   "metadata": {},
   "outputs": [],
   "source": []
  }
 ],
 "metadata": {
  "kernelspec": {
   "display_name": "Python 3",
   "language": "python",
   "name": "python3"
  },
  "language_info": {
   "codemirror_mode": {
    "name": "ipython",
    "version": 3
   },
   "file_extension": ".py",
   "mimetype": "text/x-python",
   "name": "python",
   "nbconvert_exporter": "python",
   "pygments_lexer": "ipython3",
   "version": "3.7.6"
  }
 },
 "nbformat": 4,
 "nbformat_minor": 4
}
