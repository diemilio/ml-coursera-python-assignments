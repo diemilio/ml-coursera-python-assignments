{
 "cells": [
  {
   "cell_type": "code",
   "execution_count": 2,
   "metadata": {},
   "outputs": [],
   "source": [
    "import os\n",
    "import numpy as np\n",
    "from matplotlib import pyplot\n",
    "from scipy import optimize\n",
    "from scipy.io import loadmat\n",
    "import utils\n",
    "%matplotlib inline"
   ]
  },
  {
   "cell_type": "code",
   "execution_count": 7,
   "metadata": {},
   "outputs": [],
   "source": [
    "m = 10\n",
    "k = 4\n",
    "h_lay = 5\n",
    "X = np.random.rand(m, h_lay)\n",
    "y = np.random.randint(k, size = m)\n",
    "theta1 = np.random.rand(h_lay, h_lay+1)/100\n",
    "theta2 = np.random.rand(k, h_lay+1)/100\n",
    "nn_params = np.concatenate([theta1.ravel(), theta2.ravel()])"
   ]
  },
  {
   "cell_type": "code",
   "execution_count": 8,
   "metadata": {},
   "outputs": [],
   "source": [
    "def nnCostFunction(nn_params,\n",
    "                   input_layer_size,\n",
    "                   hidden_layer_size,\n",
    "                   num_labels,\n",
    "                   X, y, lambda_, dum1):\n",
    "\n",
    "    # Reshape nn_params back into the parameters Theta1 and Theta2, the weight matrices\n",
    "    # for our 2 layer neural network\n",
    "    Theta1 = np.reshape(nn_params[:hidden_layer_size * (input_layer_size + 1)],\n",
    "                        (hidden_layer_size, (input_layer_size + 1)))\n",
    "\n",
    "    Theta2 = np.reshape(nn_params[(hidden_layer_size * (input_layer_size + 1)):],\n",
    "                        (num_labels, (hidden_layer_size + 1)))\n",
    "\n",
    "    # Setup some useful variables\n",
    "    m = y.size\n",
    "         \n",
    "    # You need to return the following variables correctly \n",
    "    J = 0\n",
    "    Theta1_grad = np.zeros(Theta1.shape)\n",
    "    Theta2_grad = np.zeros(Theta2.shape)\n",
    "\n",
    "    # ====================== YOUR CODE HERE ======================\n",
    "    \n",
    "    # Add ones to the X data matrix, and rename as A1\n",
    "    X = np.concatenate([np.ones((m, 1)), X], axis=1)\n",
    "    \n",
    "    # Matrix of activation-unit outputs of the hidden layer:\n",
    "    A_2 = utils.sigmoid(np.dot(X,Theta1.T))\n",
    "    \n",
    "    # Add column of \"ones\" for bias activation unit:\n",
    "    A_2 = np.concatenate([np.ones((m, 1)), A_2], axis=1)\n",
    "    \n",
    "    # Matrix of output elements (h_theta(x)):\n",
    "    h = utils.sigmoid(np.dot(A_2,Theta2.T))\n",
    "    \n",
    "    # Generate (m x K) matrix with training outputs where each element has been replaced with row vector\n",
    "    # containing a \"1\" for the given class (e.g., if yi = 5 --> yi = [0,0,0,0,0,1,0,0,0,0] )\n",
    "    ym = np.zeros((m,num_labels))\n",
    "    \n",
    "    for i in range(m):\n",
    "        ym[i,y[i]] = 1\n",
    "    \n",
    "    # Compute cost function w/o regularization:\n",
    "    #J = -1/m*np.sum(ym*np.log(h)+(1-ym)*np.log(1-h))\n",
    "    \n",
    "    # For regularization, need to sum over all elements of Theta1 and Theta2, but first need to zero-out \n",
    "    # the first column of each matrix to make sure bias elems are not included:\n",
    "\n",
    "    print(\"before reg assignment \\n\")\n",
    "    print(\"Theta1 = \", Theta1)\n",
    "    print(\"Theta2 = \", Theta2)\n",
    "    \n",
    "    theta1_reg = Theta1\n",
    "    theta2_reg = Theta2\n",
    "    \n",
    "    print(\"Theta1_reg = \", theta1_reg)\n",
    "    print(\"Theta2_reg = \", theta2_reg)\n",
    "    \n",
    "    theta1_reg[:,0] = 0\n",
    "    theta2_reg[:,0] = 0\n",
    "    \n",
    "    print(\"after reg assignment \\n\") \n",
    "    print(\"Theta1 = \", Theta1)\n",
    "    print(\"Theta2 = \", Theta2)\n",
    "    print(\"Theta1_reg = \", theta1_reg)\n",
    "    print(\"Theta2_reg = \", theta2_reg)    \n",
    "    \n",
    "    print(\"dum1 = \", dum1)\n",
    "    dum1_reg = dum1\n",
    "    dum1_reg[0] = 3\n",
    "    print(\"dum1 = \", dum1)\n",
    "    print(\"dum1_reg = \", dum1_reg)\n",
    "    \n",
    "    # Compute cost function w/i regularization:\n",
    "    J = -1/m*np.sum(ym*np.log(h)+(1-ym)*np.log(1-h)) + lambda_/(2*m)*(np.sum(theta1_reg**2)+np.sum(theta2_reg**2))\n",
    "    \n",
    "    # ================================================================\n",
    "    # Unroll gradients\n",
    "    # grad = np.concatenate([Theta1_grad.ravel(order=order), Theta2_grad.ravel(order=order)])\n",
    "    grad = np.concatenate([Theta1_grad.ravel(), Theta2_grad.ravel()])\n",
    "\n",
    "    return J, grad"
   ]
  },
  {
   "cell_type": "code",
   "execution_count": 9,
   "metadata": {},
   "outputs": [
    {
     "name": "stdout",
     "output_type": "stream",
     "text": [
      "before reg assignment \n",
      "\n",
      "Theta1 =  [[2.63644854e-03 9.91861082e-03 5.75850828e-03 2.37080694e-03\n",
      "  7.15622880e-03 1.69522981e-03]\n",
      " [9.66580786e-03 9.41047067e-03 3.85854443e-03 2.48210435e-03\n",
      "  5.08657049e-03 4.02367398e-03]\n",
      " [1.63895518e-03 3.02917963e-03 1.37900623e-03 8.16683873e-03\n",
      "  2.91286253e-03 9.48589245e-03]\n",
      " [1.56258952e-03 2.36316774e-03 4.00641243e-05 3.06055236e-03\n",
      "  9.84799100e-03 6.27681894e-03]\n",
      " [1.94046499e-03 5.28869740e-03 9.48367343e-04 6.85711721e-03\n",
      "  8.14913652e-03 9.88360156e-04]]\n",
      "Theta2 =  [[0.00080291 0.00520612 0.0078579  0.00713746 0.0064728  0.00861299]\n",
      " [0.00676835 0.00033225 0.00940566 0.00890329 0.00088102 0.00883949]\n",
      " [0.00050711 0.0082209  0.00667289 0.00882214 0.0017566  0.00668947]\n",
      " [0.00781549 0.00123627 0.001719   0.00276625 0.00056899 0.00208521]]\n",
      "Theta1_reg =  [[2.63644854e-03 9.91861082e-03 5.75850828e-03 2.37080694e-03\n",
      "  7.15622880e-03 1.69522981e-03]\n",
      " [9.66580786e-03 9.41047067e-03 3.85854443e-03 2.48210435e-03\n",
      "  5.08657049e-03 4.02367398e-03]\n",
      " [1.63895518e-03 3.02917963e-03 1.37900623e-03 8.16683873e-03\n",
      "  2.91286253e-03 9.48589245e-03]\n",
      " [1.56258952e-03 2.36316774e-03 4.00641243e-05 3.06055236e-03\n",
      "  9.84799100e-03 6.27681894e-03]\n",
      " [1.94046499e-03 5.28869740e-03 9.48367343e-04 6.85711721e-03\n",
      "  8.14913652e-03 9.88360156e-04]]\n",
      "Theta2_reg =  [[0.00080291 0.00520612 0.0078579  0.00713746 0.0064728  0.00861299]\n",
      " [0.00676835 0.00033225 0.00940566 0.00890329 0.00088102 0.00883949]\n",
      " [0.00050711 0.0082209  0.00667289 0.00882214 0.0017566  0.00668947]\n",
      " [0.00781549 0.00123627 0.001719   0.00276625 0.00056899 0.00208521]]\n",
      "after reg assignment \n",
      "\n",
      "Theta1 =  [[0.00000000e+00 9.91861082e-03 5.75850828e-03 2.37080694e-03\n",
      "  7.15622880e-03 1.69522981e-03]\n",
      " [0.00000000e+00 9.41047067e-03 3.85854443e-03 2.48210435e-03\n",
      "  5.08657049e-03 4.02367398e-03]\n",
      " [0.00000000e+00 3.02917963e-03 1.37900623e-03 8.16683873e-03\n",
      "  2.91286253e-03 9.48589245e-03]\n",
      " [0.00000000e+00 2.36316774e-03 4.00641243e-05 3.06055236e-03\n",
      "  9.84799100e-03 6.27681894e-03]\n",
      " [0.00000000e+00 5.28869740e-03 9.48367343e-04 6.85711721e-03\n",
      "  8.14913652e-03 9.88360156e-04]]\n",
      "Theta2 =  [[0.         0.00520612 0.0078579  0.00713746 0.0064728  0.00861299]\n",
      " [0.         0.00033225 0.00940566 0.00890329 0.00088102 0.00883949]\n",
      " [0.         0.0082209  0.00667289 0.00882214 0.0017566  0.00668947]\n",
      " [0.         0.00123627 0.001719   0.00276625 0.00056899 0.00208521]]\n",
      "Theta1_reg =  [[0.00000000e+00 9.91861082e-03 5.75850828e-03 2.37080694e-03\n",
      "  7.15622880e-03 1.69522981e-03]\n",
      " [0.00000000e+00 9.41047067e-03 3.85854443e-03 2.48210435e-03\n",
      "  5.08657049e-03 4.02367398e-03]\n",
      " [0.00000000e+00 3.02917963e-03 1.37900623e-03 8.16683873e-03\n",
      "  2.91286253e-03 9.48589245e-03]\n",
      " [0.00000000e+00 2.36316774e-03 4.00641243e-05 3.06055236e-03\n",
      "  9.84799100e-03 6.27681894e-03]\n",
      " [0.00000000e+00 5.28869740e-03 9.48367343e-04 6.85711721e-03\n",
      "  8.14913652e-03 9.88360156e-04]]\n",
      "Theta2_reg =  [[0.         0.00520612 0.0078579  0.00713746 0.0064728  0.00861299]\n",
      " [0.         0.00033225 0.00940566 0.00890329 0.00088102 0.00883949]\n",
      " [0.         0.0082209  0.00667289 0.00882214 0.0017566  0.00668947]\n",
      " [0.         0.00123627 0.001719   0.00276625 0.00056899 0.00208521]]\n",
      "dum1 =  [1 1 1 1 1]\n",
      "dum1 =  [3 1 1 1 1]\n",
      "dum1_reg =  [3 1 1 1 1]\n",
      "Cost at parameters (loaded from ex4weights): 2.790312 \n"
     ]
    }
   ],
   "source": [
    "lambda_ = 0\n",
    "dummy1 = np.array([1,1,1,1,1])\n",
    "J, _ = nnCostFunction(nn_params, h_lay, h_lay,\n",
    "                   k, X, y, lambda_, dummy1)\n",
    "print('Cost at parameters (loaded from ex4weights): %.6f ' % J)"
   ]
  },
  {
   "cell_type": "code",
   "execution_count": null,
   "metadata": {},
   "outputs": [],
   "source": [
    "Theta1_reg"
   ]
  },
  {
   "cell_type": "code",
   "execution_count": 3,
   "metadata": {},
   "outputs": [
    {
     "name": "stdout",
     "output_type": "stream",
     "text": [
      "[1 1 1 1 1]\n",
      "[0 1 1 1 1]\n"
     ]
    }
   ],
   "source": [
    "x = np.array([1,1,1,1,1])\n",
    "y = x.copy()\n",
    "y[0] = 0\n",
    "print(x)\n",
    "print(y)"
   ]
  },
  {
   "cell_type": "code",
   "execution_count": 4,
   "metadata": {},
   "outputs": [
    {
     "name": "stdout",
     "output_type": "stream",
     "text": [
      "[0 1 1 1 1]\n",
      "[0 1 1 1 1]\n"
     ]
    }
   ],
   "source": [
    "x = np.array([1,1,1,1,1])\n",
    "y = x\n",
    "y[0] = 0\n",
    "print(x)\n",
    "print(y)"
   ]
  },
  {
   "cell_type": "code",
   "execution_count": 7,
   "metadata": {},
   "outputs": [
    {
     "name": "stdout",
     "output_type": "stream",
     "text": [
      "[0, 1, 1, 1, 1]\n",
      "[0, 1, 1, 1, 1]\n"
     ]
    }
   ],
   "source": [
    "a = [1,1,1,1,1]\n",
    "b = a\n",
    "b[0] = 0\n",
    "print(a)\n",
    "print(b)"
   ]
  },
  {
   "cell_type": "code",
   "execution_count": null,
   "metadata": {},
   "outputs": [],
   "source": []
  },
  {
   "cell_type": "code",
   "execution_count": 14,
   "metadata": {},
   "outputs": [
    {
     "data": {
      "text/plain": [
       "array([[0.15558562, 0.61372935, 0.52779738, 0.50162874, 0.35387695],\n",
       "       [0.3102538 , 0.1774894 , 0.66288124, 0.49251496, 0.5029875 ],\n",
       "       [0.55815247, 0.02155552, 0.52282552, 0.13845692, 0.6224235 ],\n",
       "       [0.44712756, 0.89189773, 0.05142846, 0.79364447, 0.4670996 ],\n",
       "       [0.39035733, 0.71314361, 0.97980052, 0.80840111, 0.57740809],\n",
       "       [0.19767468, 0.34441336, 0.06307796, 0.9085284 , 0.10218188],\n",
       "       [0.08547756, 0.56989856, 0.20632091, 0.22838358, 0.11249418],\n",
       "       [0.82502688, 0.58514292, 0.09542148, 0.02753516, 0.3203712 ],\n",
       "       [0.91949664, 0.84480103, 0.54328002, 0.05211455, 0.91103071],\n",
       "       [0.04958964, 0.08765251, 0.70843611, 0.58321932, 0.0493383 ]])"
      ]
     },
     "execution_count": 14,
     "metadata": {},
     "output_type": "execute_result"
    }
   ],
   "source": [
    "X"
   ]
  },
  {
   "cell_type": "code",
   "execution_count": 15,
   "metadata": {},
   "outputs": [
    {
     "data": {
      "text/plain": [
       "array([[0.61372935, 0.52779738, 0.50162874, 0.35387695],\n",
       "       [0.1774894 , 0.66288124, 0.49251496, 0.5029875 ],\n",
       "       [0.02155552, 0.52282552, 0.13845692, 0.6224235 ],\n",
       "       [0.89189773, 0.05142846, 0.79364447, 0.4670996 ],\n",
       "       [0.71314361, 0.97980052, 0.80840111, 0.57740809],\n",
       "       [0.34441336, 0.06307796, 0.9085284 , 0.10218188],\n",
       "       [0.56989856, 0.20632091, 0.22838358, 0.11249418],\n",
       "       [0.58514292, 0.09542148, 0.02753516, 0.3203712 ],\n",
       "       [0.84480103, 0.54328002, 0.05211455, 0.91103071],\n",
       "       [0.08765251, 0.70843611, 0.58321932, 0.0493383 ]])"
      ]
     },
     "execution_count": 15,
     "metadata": {},
     "output_type": "execute_result"
    }
   ],
   "source": [
    "X = X[:,1:]\n",
    "X"
   ]
  },
  {
   "cell_type": "code",
   "execution_count": null,
   "metadata": {},
   "outputs": [],
   "source": []
  }
 ],
 "metadata": {
  "kernelspec": {
   "display_name": "Python 3",
   "language": "python",
   "name": "python3"
  },
  "language_info": {
   "codemirror_mode": {
    "name": "ipython",
    "version": 3
   },
   "file_extension": ".py",
   "mimetype": "text/x-python",
   "name": "python",
   "nbconvert_exporter": "python",
   "pygments_lexer": "ipython3",
   "version": "3.7.6"
  }
 },
 "nbformat": 4,
 "nbformat_minor": 4
}
